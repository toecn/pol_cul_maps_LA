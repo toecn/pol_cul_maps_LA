{
 "cells": [
  {
   "cell_type": "code",
   "execution_count": 1,
   "id": "1b128562-d6e7-4808-a20c-98e01eaebd28",
   "metadata": {},
   "outputs": [
    {
     "name": "stdout",
     "output_type": "stream",
     "text": [
      "/Users/nte/Documents/Chicago PhD Projects/Political culture maps/1.ANALYSIS\n"
     ]
    }
   ],
   "source": [
    "cd /Users/nte/Documents/Chicago\\ PhD\\ Projects/Political\\ culture\\ maps/1.ANALYSIS\n"
   ]
  },
  {
   "cell_type": "markdown",
   "id": "ff844df7-9654-4153-a421-3288c0e33486",
   "metadata": {},
   "source": [
    "!/usr/bin/env python coding: utf-8\n",
    "Culture Maps Project\n",
    "\n",
    "## Author: Nicolás Torres-Echeverry\n",
    "## Created: July 2021\n",
    "## Date(last modified): July 20th 2023\n",
    "## Data storage: \n",
    "    ### Merges website's source data (from csv) and text data dictionary (from json) and saves it as a csv. \n",
    "    ### It allows to create different data frames filtering by the number of words (e.g., all websites with less than 3k)\n",
    "## Working with El Corpus del Español\n",
    "\n",
    "## Notebook index:\n",
    "    # 1. Libraries\n",
    "    # 2. Helper functions\n",
    "    # 3. Pipeline\n",
    "    # 4. Save data frame as csv"
   ]
  },
  {
   "cell_type": "markdown",
   "id": "872c7513-a6c6-4ebb-a6e8-db2b1c8003f3",
   "metadata": {},
   "source": [
    "# 1. Libraries"
   ]
  },
  {
   "cell_type": "code",
   "execution_count": 2,
   "id": "3f4ebd48-587c-440f-9966-e3cc52b1d13a",
   "metadata": {},
   "outputs": [],
   "source": [
    "# # 1. Libraries \n",
    "\n",
    "import pandas as pd\n",
    "import json\n",
    "import csv\n"
   ]
  },
  {
   "cell_type": "markdown",
   "id": "ca85c2dc-9497-415c-9c6a-97dba7e62f59",
   "metadata": {},
   "source": [
    "# 2. Helper functions"
   ]
  },
  {
   "cell_type": "code",
   "execution_count": 3,
   "id": "b0370777-1324-4ad5-921f-f0fde8098817",
   "metadata": {},
   "outputs": [],
   "source": [
    "def creates_df(source_list, websites_text, max_words, full_data=False):\n",
    "    '''\n",
    "    Merges sources data and websites text data from dictionary (json) and creates a \n",
    "    pandas dataframe. \n",
    "    \n",
    "    Inpputs:\n",
    "        source_list: (list) websites urls\n",
    "        websites_text: (dictionary) \n",
    "                    key - (int) id\n",
    "                    value - (string) websites' texts \n",
    "        max_words: (int) creates cut off depending on the number of words per website\n",
    "                    e.g., if checkpoing 1K => no website with more than 1K words enters\n",
    "        full_data: (boolean) defines data output \n",
    "        \n",
    "    Output:\n",
    "        If argument full_data TRUE => returns the entire data frame with NAs in text cells that it did not append.\n",
    "            => span_df (pandas data frame) \n",
    "        If argument full_data FALSE => returns the entire data frame with NAs in text cells that it did not append.\n",
    "             => smaller_df (pandas data frame)\n",
    "        Defalt is FALSE.\n",
    "        \n",
    "    '''\n",
    "    span_df = source_list\n",
    "    \n",
    "    span_df['text'] = ''\n",
    "    span_df['id_string'] = span_df['textid'].astype(str)\n",
    "\n",
    "    c = 0\n",
    "    for index, row in span_df.iterrows():\n",
    "        textid_value = row['id_string']\n",
    "        if textid_value in websites_text and len(websites_text[textid_value]) < max_words:\n",
    "            c = c + 1\n",
    "            span_df.at[index, 'text'] = websites_text[textid_value]\n",
    "        else:\n",
    "            span_df.at[index, 'text'] = 'NA'\n",
    "\n",
    "    if full_data:\n",
    "        print(\"RETURNING FULL DATA FRAME\")\n",
    "        return span_df\n",
    "    else:\n",
    "        print(\"RETURNING SMALL DATA FRAME. NO NAs.\") \n",
    "        smaller_df = span_df[span_df['text'] != 'NA']\n",
    "        print(\"Number of website's texts incuded in data frame:\", c) \n",
    "        return smaller_df"
   ]
  },
  {
   "cell_type": "code",
   "execution_count": 4,
   "id": "f3baf2e9-8fe8-4f27-af3a-347f0d403b68",
   "metadata": {},
   "outputs": [],
   "source": [
    "def count_matches(source_list, websites_text):\n",
    "    '''\n",
    "    Inpputs:\n",
    "        source_list: (list) websites urls\n",
    "        websites_text: (dictionary) \n",
    "                    key - (int) id\n",
    "                    value - (string) websites' texts \n",
    "    Output:\n",
    "        c: (int) count of matches\n",
    "    '''\n",
    "    \n",
    "    c = 0\n",
    "    \n",
    "    for index, row in source_list.iterrows():\n",
    "        textid_value = row['id_string']\n",
    "        if textid_value in websites_text:\n",
    "            c = c + 1\n",
    "\n",
    "    print(\"Number of matches: ids both in dicitonary and source:\", c)\n",
    "\n",
    "    return c\n",
    "    "
   ]
  },
  {
   "cell_type": "markdown",
   "id": "54ba544b-7b92-4d8e-931b-8743630e8d91",
   "metadata": {},
   "source": [
    "# 3. Pipeline"
   ]
  },
  {
   "cell_type": "code",
   "execution_count": 5,
   "id": "8e30b538-d915-4f87-bbd5-939681bfc7be",
   "metadata": {},
   "outputs": [],
   "source": [
    "# Reading json \n",
    "\n",
    "json_file = \"dict_span_full.json\"\n",
    "\n",
    "with open(json_file, \"r\") as read_file:\n",
    "    dict_text_websites = json.load(read_file)\n"
   ]
  },
  {
   "cell_type": "code",
   "execution_count": 6,
   "id": "1d7c7122-3ae2-49cd-af4e-66a2e5182875",
   "metadata": {},
   "outputs": [],
   "source": [
    "# File path\n",
    "file_path = 'sources_csv.csv'\n",
    "\n",
    "# Read the CSV file into a pandas DataFrame\n",
    "df_sources = pd.read_csv(file_path)"
   ]
  },
  {
   "cell_type": "code",
   "execution_count": 7,
   "id": "00fa5a01-7503-46da-bde7-808321f8bdd2",
   "metadata": {},
   "outputs": [
    {
     "data": {
      "text/plain": [
       "Index(['textid', 'words_number', 'genre', 'country', 'website', 'url',\n",
       "       'title'],\n",
       "      dtype='object')"
      ]
     },
     "execution_count": 7,
     "metadata": {},
     "output_type": "execute_result"
    }
   ],
   "source": [
    "df_sources.columns"
   ]
  },
  {
   "cell_type": "code",
   "execution_count": 8,
   "id": "422866dc-fd90-44c1-b58d-76059ae06a4c",
   "metadata": {},
   "outputs": [
    {
     "data": {
      "text/plain": [
       "(2096913, 7)"
      ]
     },
     "execution_count": 8,
     "metadata": {},
     "output_type": "execute_result"
    }
   ],
   "source": [
    "df_sources.shape"
   ]
  },
  {
   "cell_type": "code",
   "execution_count": 9,
   "id": "82daff38-6869-4e2c-8c34-836b20f294d2",
   "metadata": {},
   "outputs": [
    {
     "name": "stdout",
     "output_type": "stream",
     "text": [
      "RETURNING SMALL DATA FRAME. NO NAs.\n",
      "Number of website's texts incuded in data frame: 223830\n"
     ]
    }
   ],
   "source": [
    "df = creates_df(df_sources, dict_text_websites, 1000, full_data=False)"
   ]
  },
  {
   "cell_type": "code",
   "execution_count": 10,
   "id": "e0214fd9-afcd-41ec-aece-2678517ca2a8",
   "metadata": {},
   "outputs": [
    {
     "data": {
      "text/plain": [
       "(223830, 9)"
      ]
     },
     "execution_count": 10,
     "metadata": {},
     "output_type": "execute_result"
    }
   ],
   "source": [
    "df.shape"
   ]
  },
  {
   "cell_type": "markdown",
   "id": "8f2cf006-0a17-40bf-aa02-060b87c61276",
   "metadata": {},
   "source": [
    "#### I was able to run the funciton and create an smaller data frame for websites with less than 1,000 words."
   ]
  },
  {
   "cell_type": "code",
   "execution_count": 12,
   "id": "31c8bf00-2e8a-4469-81f9-608547a1742e",
   "metadata": {},
   "outputs": [
    {
     "name": "stdout",
     "output_type": "stream",
     "text": [
      "RETURNING SMALL DATA FRAME. NO NAs.\n",
      "Number of website's texts incuded in data frame: 1016208\n"
     ]
    },
    {
     "data": {
      "text/plain": [
       "(223830, 9)"
      ]
     },
     "execution_count": 12,
     "metadata": {},
     "output_type": "execute_result"
    }
   ],
   "source": [
    "df_3k = creates_df(df_sources, dict_text_websites, 3000, full_data=False)\n",
    "df.shape"
   ]
  },
  {
   "cell_type": "markdown",
   "id": "6e5b3238-aea1-440e-89db-5a539e659517",
   "metadata": {},
   "source": [
    "### Great! this is a larger dataframe than the one I had. It has 1,016,208"
   ]
  },
  {
   "cell_type": "code",
   "execution_count": null,
   "id": "3f5f2ef7-03c3-425a-a429-a6edf6ec8b26",
   "metadata": {},
   "outputs": [],
   "source": [
    "# checkpoint (if needed)\n",
    "\n",
    "# count = count_matches(df_sources, dict_text_websites) "
   ]
  },
  {
   "cell_type": "markdown",
   "id": "68fa5dfc-a568-4273-81d6-1e8e91eb582a",
   "metadata": {},
   "source": [
    "### Interesting! From 21593 websites in the dictionary 21582 make match in the source!"
   ]
  },
  {
   "cell_type": "markdown",
   "id": "441fb7bf-5d05-4ed9-b43c-881e160d40cd",
   "metadata": {},
   "source": [
    "# 4. Saves data frame"
   ]
  },
  {
   "cell_type": "code",
   "execution_count": 11,
   "id": "7badd59d-48c9-4515-a0b6-405b884ea241",
   "metadata": {},
   "outputs": [],
   "source": [
    "df.to_csv('span_full_text_1k_words.csv')"
   ]
  },
  {
   "cell_type": "code",
   "execution_count": 13,
   "id": "9dc23d52-239c-4273-985e-40762487d13a",
   "metadata": {},
   "outputs": [],
   "source": [
    "df_3k.to_csv('span_full_text_3k_words.csv')"
   ]
  },
  {
   "cell_type": "code",
   "execution_count": null,
   "id": "e5de7c50-e775-4d4e-8040-04feb8874ae6",
   "metadata": {},
   "outputs": [],
   "source": []
  }
 ],
 "metadata": {
  "kernelspec": {
   "display_name": "Python 3 (ipykernel)",
   "language": "python",
   "name": "python3"
  },
  "language_info": {
   "codemirror_mode": {
    "name": "ipython",
    "version": 3
   },
   "file_extension": ".py",
   "mimetype": "text/x-python",
   "name": "python",
   "nbconvert_exporter": "python",
   "pygments_lexer": "ipython3",
   "version": "3.8.5"
  }
 },
 "nbformat": 4,
 "nbformat_minor": 5
}
